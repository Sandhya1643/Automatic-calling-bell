{
  "nbformat": 4,
  "nbformat_minor": 0,
  "metadata": {
    "colab": {
      "provenance": [],
      "authorship_tag": "ABX9TyMore/fvu2wvvNtECrQhTBS",
      "include_colab_link": true
    },
    "kernelspec": {
      "name": "python3",
      "display_name": "Python 3"
    },
    "language_info": {
      "name": "python"
    }
  },
  "cells": [
    {
      "cell_type": "markdown",
      "metadata": {
        "id": "view-in-github",
        "colab_type": "text"
      },
      "source": [
        "<a href=\"https://colab.research.google.com/github/Sandhya1643/Automatic-calling-bell/blob/main/pandas.ipynb\" target=\"_parent\"><img src=\"https://colab.research.google.com/assets/colab-badge.svg\" alt=\"Open In Colab\"/></a>"
      ]
    },
    {
      "cell_type": "code",
      "execution_count": 3,
      "metadata": {
        "colab": {
          "base_uri": "https://localhost:8080/"
        },
        "id": "HpnI-WyaylsM",
        "outputId": "3df95d26-e573-4101-8ed6-eb248e9202c2"
      },
      "outputs": [
        {
          "output_type": "stream",
          "name": "stdout",
          "text": [
            "Labels: ['a', 'b', 'c']\n",
            "MY data: [10, 20, 30]\n",
            "Dictionary: {'a': 10, 'b': 20, 'c': 30}\n",
            "array: [10 20 30]\n"
          ]
        }
      ],
      "source": [
        "import numpy as np\n",
        "import pandas as pd\n",
        "\n",
        "labels = ['a','b','c']\n",
        "my_data = [10,20,30]\n",
        "arr = np.array(my_data)\n",
        "d = {'a':10,'b':20,'c':30}\n",
        "\n",
        "print(\"Labels:\",labels)\n",
        "print(\"MY data:\", my_data)\n",
        "print(\"Dictionary:\",d)\n",
        "print(\"array:\", arr)"
      ]
    },
    {
      "cell_type": "markdown",
      "source": [
        "Creating a series (pandas class)\n",
        "*   from numerical data only\n",
        "*   from numerical data corresponding index\n",
        "*  from numpy array as the source of numerical data\n",
        "*   just using a pre defined dictionary\n",
        "\n",
        "\n",
        "\n"
      ],
      "metadata": {
        "id": "qQRwqJmY0qNp"
      }
    },
    {
      "cell_type": "code",
      "source": [
        "pd.Series(data=my_data)  #Output looks very similar to a numpy array"
      ],
      "metadata": {
        "colab": {
          "base_uri": "https://localhost:8080/",
          "height": 178
        },
        "id": "FVo8wwtiyqgM",
        "outputId": "ec63d6ba-3ebd-4d70-88d7-8105aa7c1c28"
      },
      "execution_count": 4,
      "outputs": [
        {
          "output_type": "execute_result",
          "data": {
            "text/plain": [
              "0    10\n",
              "1    20\n",
              "2    30\n",
              "dtype: int64"
            ],
            "text/html": [
              "<div>\n",
              "<style scoped>\n",
              "    .dataframe tbody tr th:only-of-type {\n",
              "        vertical-align: middle;\n",
              "    }\n",
              "\n",
              "    .dataframe tbody tr th {\n",
              "        vertical-align: top;\n",
              "    }\n",
              "\n",
              "    .dataframe thead th {\n",
              "        text-align: right;\n",
              "    }\n",
              "</style>\n",
              "<table border=\"1\" class=\"dataframe\">\n",
              "  <thead>\n",
              "    <tr style=\"text-align: right;\">\n",
              "      <th></th>\n",
              "      <th>0</th>\n",
              "    </tr>\n",
              "  </thead>\n",
              "  <tbody>\n",
              "    <tr>\n",
              "      <th>0</th>\n",
              "      <td>10</td>\n",
              "    </tr>\n",
              "    <tr>\n",
              "      <th>1</th>\n",
              "      <td>20</td>\n",
              "    </tr>\n",
              "    <tr>\n",
              "      <th>2</th>\n",
              "      <td>30</td>\n",
              "    </tr>\n",
              "  </tbody>\n",
              "</table>\n",
              "</div><br><label><b>dtype:</b> int64</label>"
            ]
          },
          "metadata": {},
          "execution_count": 4
        }
      ]
    },
    {
      "cell_type": "code",
      "source": [
        "pd.Series(data=my_data,index=labels)"
      ],
      "metadata": {
        "colab": {
          "base_uri": "https://localhost:8080/",
          "height": 178
        },
        "id": "16QyiXT6yqtG",
        "outputId": "a255d7f4-435b-4cf7-d700-fdc1003e3d77"
      },
      "execution_count": 5,
      "outputs": [
        {
          "output_type": "execute_result",
          "data": {
            "text/plain": [
              "a    10\n",
              "b    20\n",
              "c    30\n",
              "dtype: int64"
            ],
            "text/html": [
              "<div>\n",
              "<style scoped>\n",
              "    .dataframe tbody tr th:only-of-type {\n",
              "        vertical-align: middle;\n",
              "    }\n",
              "\n",
              "    .dataframe tbody tr th {\n",
              "        vertical-align: top;\n",
              "    }\n",
              "\n",
              "    .dataframe thead th {\n",
              "        text-align: right;\n",
              "    }\n",
              "</style>\n",
              "<table border=\"1\" class=\"dataframe\">\n",
              "  <thead>\n",
              "    <tr style=\"text-align: right;\">\n",
              "      <th></th>\n",
              "      <th>0</th>\n",
              "    </tr>\n",
              "  </thead>\n",
              "  <tbody>\n",
              "    <tr>\n",
              "      <th>a</th>\n",
              "      <td>10</td>\n",
              "    </tr>\n",
              "    <tr>\n",
              "      <th>b</th>\n",
              "      <td>20</td>\n",
              "    </tr>\n",
              "    <tr>\n",
              "      <th>c</th>\n",
              "      <td>30</td>\n",
              "    </tr>\n",
              "  </tbody>\n",
              "</table>\n",
              "</div><br><label><b>dtype:</b> int64</label>"
            ]
          },
          "metadata": {},
          "execution_count": 5
        }
      ]
    },
    {
      "cell_type": "code",
      "source": [
        "pd.Series(arr, labels)"
      ],
      "metadata": {
        "colab": {
          "base_uri": "https://localhost:8080/",
          "height": 178
        },
        "id": "iQ4wqdn_yq39",
        "outputId": "68ef8a49-b13a-4109-d8e9-c22f266dd1c7"
      },
      "execution_count": 6,
      "outputs": [
        {
          "output_type": "execute_result",
          "data": {
            "text/plain": [
              "a    10\n",
              "b    20\n",
              "c    30\n",
              "dtype: int64"
            ],
            "text/html": [
              "<div>\n",
              "<style scoped>\n",
              "    .dataframe tbody tr th:only-of-type {\n",
              "        vertical-align: middle;\n",
              "    }\n",
              "\n",
              "    .dataframe tbody tr th {\n",
              "        vertical-align: top;\n",
              "    }\n",
              "\n",
              "    .dataframe thead th {\n",
              "        text-align: right;\n",
              "    }\n",
              "</style>\n",
              "<table border=\"1\" class=\"dataframe\">\n",
              "  <thead>\n",
              "    <tr style=\"text-align: right;\">\n",
              "      <th></th>\n",
              "      <th>0</th>\n",
              "    </tr>\n",
              "  </thead>\n",
              "  <tbody>\n",
              "    <tr>\n",
              "      <th>a</th>\n",
              "      <td>10</td>\n",
              "    </tr>\n",
              "    <tr>\n",
              "      <th>b</th>\n",
              "      <td>20</td>\n",
              "    </tr>\n",
              "    <tr>\n",
              "      <th>c</th>\n",
              "      <td>30</td>\n",
              "    </tr>\n",
              "  </tbody>\n",
              "</table>\n",
              "</div><br><label><b>dtype:</b> int64</label>"
            ]
          },
          "metadata": {},
          "execution_count": 6
        }
      ]
    },
    {
      "cell_type": "code",
      "source": [
        "pd.Series(d)  #using a pre defined dictionary object"
      ],
      "metadata": {
        "colab": {
          "base_uri": "https://localhost:8080/",
          "height": 178
        },
        "id": "J7iST4CP2cFp",
        "outputId": "b85da96f-ecf4-4a28-d2e1-fe903c6f6cb0"
      },
      "execution_count": 7,
      "outputs": [
        {
          "output_type": "execute_result",
          "data": {
            "text/plain": [
              "a    10\n",
              "b    20\n",
              "c    30\n",
              "dtype: int64"
            ],
            "text/html": [
              "<div>\n",
              "<style scoped>\n",
              "    .dataframe tbody tr th:only-of-type {\n",
              "        vertical-align: middle;\n",
              "    }\n",
              "\n",
              "    .dataframe tbody tr th {\n",
              "        vertical-align: top;\n",
              "    }\n",
              "\n",
              "    .dataframe thead th {\n",
              "        text-align: right;\n",
              "    }\n",
              "</style>\n",
              "<table border=\"1\" class=\"dataframe\">\n",
              "  <thead>\n",
              "    <tr style=\"text-align: right;\">\n",
              "      <th></th>\n",
              "      <th>0</th>\n",
              "    </tr>\n",
              "  </thead>\n",
              "  <tbody>\n",
              "    <tr>\n",
              "      <th>a</th>\n",
              "      <td>10</td>\n",
              "    </tr>\n",
              "    <tr>\n",
              "      <th>b</th>\n",
              "      <td>20</td>\n",
              "    </tr>\n",
              "    <tr>\n",
              "      <th>c</th>\n",
              "      <td>30</td>\n",
              "    </tr>\n",
              "  </tbody>\n",
              "</table>\n",
              "</div><br><label><b>dtype:</b> int64</label>"
            ]
          },
          "metadata": {},
          "execution_count": 7
        }
      ]
    },
    {
      "cell_type": "markdown",
      "source": [
        "# **WHAT TYPE OF VALUES CAN A PANDAS SERIES HOLD**?"
      ],
      "metadata": {
        "id": "jIwgotm43Biv"
      }
    },
    {
      "cell_type": "code",
      "source": [
        "print(\"\\nHolding numerical data\\n\",'-'*25, sep='')\n",
        "print(pd.Series(arr))\n",
        "print(\"\\nHolding text labels\\n\",'-'*20,sep='')\n",
        "print(pd.Series(labels))\n",
        "print(\"\\nHolding functions\\n\",'-'*20, sep='')\n",
        "print(pd.Series(data=[sum,print,len]))\n",
        "print(\"\\nHolding objects from a dictionary\\n\",'-'*40, sep='')\n",
        "print(pd.Series(data=[d.keys, d.items, d.values]))"
      ],
      "metadata": {
        "id": "rr2z547C2cJD",
        "colab": {
          "base_uri": "https://localhost:8080/"
        },
        "outputId": "b5f59d83-5fa4-40e8-9f8b-96751ac6c29e"
      },
      "execution_count": 8,
      "outputs": [
        {
          "output_type": "stream",
          "name": "stdout",
          "text": [
            "\n",
            "Holding numerical data\n",
            "-------------------------\n",
            "0    10\n",
            "1    20\n",
            "2    30\n",
            "dtype: int64\n",
            "\n",
            "Holding text labels\n",
            "--------------------\n",
            "0    a\n",
            "1    b\n",
            "2    c\n",
            "dtype: object\n",
            "\n",
            "Holding functions\n",
            "--------------------\n",
            "0      <built-in function sum>\n",
            "1    <built-in function print>\n",
            "2      <built-in function len>\n",
            "dtype: object\n",
            "\n",
            "Holding objects from a dictionary\n",
            "----------------------------------------\n",
            "0    <built-in method keys of dict object at 0x7e2b...\n",
            "1    <built-in method items of dict object at 0x7e2...\n",
            "2    <built-in method values of dict object at 0x7e...\n",
            "dtype: object\n"
          ]
        }
      ]
    },
    {
      "cell_type": "markdown",
      "source": [
        "INDEXING AND SLICING"
      ],
      "metadata": {
        "id": "B08-dzLNyqHK"
      }
    },
    {
      "cell_type": "code",
      "source": [
        "ser1 = pd.Series([1,2,3,4],['CA','OR','CO','AZ'])\n",
        "ser2 = pd.Series([1,2,5,4],['CA','OR','NV','AZ'])\n",
        "\n",
        "print(\"\\nIndexing by name of the item/object (string identifier)\\n\",'-'*56, sep='')\n",
        "print(\"Value for CA in ser1:\",ser1['CA'])\n",
        "print(\"Value for AZ in ser1:\",ser1['AZ'])\n",
        "print(\"Value for NV in ser2:\",ser2['NV'])\n",
        "\n",
        "print(\"\\nIndexing by number (positional value in the series)\\n\",'-'*52,sep='')\n",
        "print(\"Value for CA in ser1:\",ser1[0])\n",
        "print(\"Value for AZ in ser1:\",ser1[3])\n",
        "print(\"Value for NV in ser2:\",ser2[2])\n",
        "\n",
        "print(\"\\nIndexing by a range\\n\",'-'*25,sep='')\n",
        "print(\"value for OR, CO, and AZ in ser1:\\n\", ser1[1:4], sep='')\n",
        "\n",
        "\n"
      ],
      "metadata": {
        "id": "vASfIpsp2cOD",
        "colab": {
          "base_uri": "https://localhost:8080/"
        },
        "outputId": "912d352e-456a-4b76-b0eb-2b50971a2e9c"
      },
      "execution_count": 9,
      "outputs": [
        {
          "output_type": "stream",
          "name": "stdout",
          "text": [
            "\n",
            "Indexing by name of the item/object (string identifier)\n",
            "--------------------------------------------------------\n",
            "Value for CA in ser1: 1\n",
            "Value for AZ in ser1: 4\n",
            "Value for NV in ser2: 5\n",
            "\n",
            "Indexing by number (positional value in the series)\n",
            "----------------------------------------------------\n",
            "Value for CA in ser1: 1\n",
            "Value for AZ in ser1: 4\n",
            "Value for NV in ser2: 5\n",
            "\n",
            "Indexing by a range\n",
            "-------------------------\n",
            "value for OR, CO, and AZ in ser1:\n",
            "OR    2\n",
            "CO    3\n",
            "AZ    4\n",
            "dtype: int64\n"
          ]
        },
        {
          "output_type": "stream",
          "name": "stderr",
          "text": [
            "<ipython-input-9-079a985874e4>:10: FutureWarning: Series.__getitem__ treating keys as positions is deprecated. In a future version, integer keys will always be treated as labels (consistent with DataFrame behavior). To access a value by position, use `ser.iloc[pos]`\n",
            "  print(\"Value for CA in ser1:\",ser1[0])\n",
            "<ipython-input-9-079a985874e4>:11: FutureWarning: Series.__getitem__ treating keys as positions is deprecated. In a future version, integer keys will always be treated as labels (consistent with DataFrame behavior). To access a value by position, use `ser.iloc[pos]`\n",
            "  print(\"Value for AZ in ser1:\",ser1[3])\n",
            "<ipython-input-9-079a985874e4>:12: FutureWarning: Series.__getitem__ treating keys as positions is deprecated. In a future version, integer keys will always be treated as labels (consistent with DataFrame behavior). To access a value by position, use `ser.iloc[pos]`\n",
            "  print(\"Value for NV in ser2:\",ser2[2])\n"
          ]
        }
      ]
    },
    {
      "cell_type": "code",
      "source": [],
      "metadata": {
        "id": "uVombTgAy4Da"
      },
      "execution_count": null,
      "outputs": []
    },
    {
      "cell_type": "code",
      "source": [],
      "metadata": {
        "id": "ZwJs3rj1y4HD"
      },
      "execution_count": null,
      "outputs": []
    },
    {
      "cell_type": "code",
      "source": [],
      "metadata": {
        "id": "EUjZohqey4PR"
      },
      "execution_count": null,
      "outputs": []
    },
    {
      "cell_type": "code",
      "source": [],
      "metadata": {
        "id": "GEOVBxWk2cU-"
      },
      "execution_count": null,
      "outputs": []
    }
  ]
}